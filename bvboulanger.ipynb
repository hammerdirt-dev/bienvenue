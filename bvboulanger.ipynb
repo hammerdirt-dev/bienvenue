{
 "cells": [
  {
   "cell_type": "code",
   "execution_count": 1,
   "id": "4edba17c-47f0-4602-87f6-e1721e468842",
   "metadata": {},
   "outputs": [],
   "source": [
    "import pandas as pd\n",
    "import numpy as np\n",
    "\n",
    "df = pd.read_csv(\"data/transactions.csv\")\n",
    "df.drop(\"Unnamed: 0\", axis=1, inplace=True)"
   ]
  },
  {
   "cell_type": "markdown",
   "id": "f9f6bf0f-e38c-4d61-b717-0263bb197758",
   "metadata": {},
   "source": [
    "# Basic data types - types de données intégrés\n",
    "Ceci ne couvre pas tous les types de données intégrés dans Python. Ce n'est pas non plus un cours exhaustif sur les listes et les dictionnaires. Consultez la documentation de python pour tous les types de données intégrés. [Python built-in types](https://docs.python.org/3/library/functions.html)\n",
    "\n",
    "__Format:__ nous présenterons quelques types de données de base et couvrirons certains attributs de base de ces types de données. Ensuite, les types de données seront utilisés dans des opérations d'agrégation, de tri ou de recherche de données dans une grande collection.\n",
    "\n",
    "## Listes et dictionaires\n",
    "\n",
    "Les listes et les dictionnaires sont des types de données intégrés dans Python. Ils sont utilisés de manière intensive pour collecter, regrouper et agréger des données. Ils peuvent être utilisés explicitement, c'est-à-dire que vous les appelez et effectuez une opération ou une méthode que vous utilisez en utilisant des listes ou des dictionnaires.\n",
    "\n",
    "### Listes"
   ]
  },
  {
   "cell_type": "code",
   "execution_count": 2,
   "id": "d1b710d6-f5d5-4ac6-aee4-94feca03e23e",
   "metadata": {},
   "outputs": [
    {
     "data": {
      "text/plain": [
       "['ham', 'spam', 'foo', 'bar']"
      ]
     },
     "execution_count": 2,
     "metadata": {},
     "output_type": "execute_result"
    }
   ],
   "source": [
    "# making a list of words\n",
    "a_list_words = [\"ham\", \"spam\", \"foo\", \"bar\"]\n",
    "\n",
    "# making a list of numbers\n",
    "a_list_nums = [1, 2, 3, 4]\n",
    "\n",
    "# printing a list\n",
    "a_list_words"
   ]
  },
  {
   "cell_type": "code",
   "execution_count": 3,
   "id": "14db72ee-855f-4b47-a9e1-ad2b5828cd5b",
   "metadata": {},
   "outputs": [
    {
     "data": {
      "text/plain": [
       "['ham', 'spam', 'foo', 'bar', 'toast']"
      ]
     },
     "execution_count": 3,
     "metadata": {},
     "output_type": "execute_result"
    }
   ],
   "source": [
    "# adding things to the end of a list\n",
    "# append to the end\n",
    "a_list_words.append(\"toast\")\n",
    "\n",
    "a_list_words"
   ]
  },
  {
   "cell_type": "code",
   "execution_count": 4,
   "id": "6fc2095f-4aa0-4c53-9c7d-289ae932a973",
   "metadata": {},
   "outputs": [
    {
     "data": {
      "text/plain": [
       "['jelly', 'ham', 'spam', 'foo', 'bar', 'toast']"
      ]
     },
     "execution_count": 4,
     "metadata": {},
     "output_type": "execute_result"
    }
   ],
   "source": [
    "# adding things to a specific location in the list\n",
    "# this is an expensive operation look for ways to \n",
    "# achieve the same goal withoht calling insert\n",
    "# add an object to the head of the list\n",
    "a_list_words.insert(0, \"jelly\")\n",
    "a_list_words"
   ]
  },
  {
   "cell_type": "code",
   "execution_count": 5,
   "id": "a4ae9f47-a50d-4d0b-947a-b338894a562d",
   "metadata": {},
   "outputs": [
    {
     "data": {
      "text/plain": [
       "['ham', 'spam', 'foo', 'bar']"
      ]
     },
     "execution_count": 5,
     "metadata": {},
     "output_type": "execute_result"
    }
   ],
   "source": [
    "# removing things from a list\n",
    "# the pop method can be used to remove\n",
    "# an item at a specific location\n",
    "# remove the first item\n",
    "a_list_words.pop(0)\n",
    "# remove the last item\n",
    "a_list_words.pop(-1)\n",
    "\n",
    "\n",
    "a_list_words"
   ]
  },
  {
   "cell_type": "code",
   "execution_count": 6,
   "id": "24b9d5a4-9d77-4ad2-a133-2242f7caf9a7",
   "metadata": {},
   "outputs": [
    {
     "data": {
      "text/plain": [
       "['spam', 'foo', 'bar']"
      ]
     },
     "execution_count": 6,
     "metadata": {},
     "output_type": "execute_result"
    }
   ],
   "source": [
    "# removing things from a list\n",
    "# use remove to delete a specific item\n",
    "a_list_words.remove(\"ham\")\n",
    "\n",
    "a_list_words"
   ]
  },
  {
   "cell_type": "markdown",
   "id": "1446bddc-374c-40b1-b6c9-980558ef1eea",
   "metadata": {},
   "source": [
    "### Finding data with lists\n",
    "\n",
    "Les listes ( et les dictionnaires) sont couramment utilisées comme arguments d'une fonction. Par exemple, dans pandas, une liste de valeurs peut être utilisée comme termes de recherche pour les valeurs d'un cadre de données, exemple ci-dessous.\n",
    "\n",
    "1. [pandas dataframe](https://pandas.pydata.org/docs/reference/api/pandas.DataFrame.html)\n",
    "2. [filtrer-un-dataframe](https://moncoachdata.com/blog/filtrer-un-dataframe-pandas/)"
   ]
  },
  {
   "cell_type": "code",
   "execution_count": 7,
   "id": "8afdf3dc-1bcb-4d2a-aeaf-6992c9279c2e",
   "metadata": {},
   "outputs": [
    {
     "data": {
      "text/html": [
       "<div>\n",
       "<style scoped>\n",
       "    .dataframe tbody tr th:only-of-type {\n",
       "        vertical-align: middle;\n",
       "    }\n",
       "\n",
       "    .dataframe tbody tr th {\n",
       "        vertical-align: top;\n",
       "    }\n",
       "\n",
       "    .dataframe thead th {\n",
       "        text-align: right;\n",
       "    }\n",
       "</style>\n",
       "<table border=\"1\" class=\"dataframe\">\n",
       "  <thead>\n",
       "    <tr style=\"text-align: right;\">\n",
       "      <th></th>\n",
       "      <th>date</th>\n",
       "      <th>time</th>\n",
       "      <th>ticket_number</th>\n",
       "      <th>article</th>\n",
       "      <th>Quantity</th>\n",
       "      <th>unit_price</th>\n",
       "    </tr>\n",
       "  </thead>\n",
       "  <tbody>\n",
       "    <tr>\n",
       "      <th>0</th>\n",
       "      <td>2021-01-02</td>\n",
       "      <td>08:38</td>\n",
       "      <td>150040.0</td>\n",
       "      <td>BAGUETTE</td>\n",
       "      <td>1.0</td>\n",
       "      <td>0,90 €</td>\n",
       "    </tr>\n",
       "    <tr>\n",
       "      <th>1</th>\n",
       "      <td>2021-01-02</td>\n",
       "      <td>08:38</td>\n",
       "      <td>150040.0</td>\n",
       "      <td>PAIN AU CHOCOLAT</td>\n",
       "      <td>3.0</td>\n",
       "      <td>1,20 €</td>\n",
       "    </tr>\n",
       "    <tr>\n",
       "      <th>2</th>\n",
       "      <td>2021-01-02</td>\n",
       "      <td>09:14</td>\n",
       "      <td>150041.0</td>\n",
       "      <td>PAIN AU CHOCOLAT</td>\n",
       "      <td>2.0</td>\n",
       "      <td>1,20 €</td>\n",
       "    </tr>\n",
       "    <tr>\n",
       "      <th>3</th>\n",
       "      <td>2021-01-02</td>\n",
       "      <td>09:14</td>\n",
       "      <td>150041.0</td>\n",
       "      <td>PAIN</td>\n",
       "      <td>1.0</td>\n",
       "      <td>1,15 €</td>\n",
       "    </tr>\n",
       "    <tr>\n",
       "      <th>4</th>\n",
       "      <td>2021-01-02</td>\n",
       "      <td>09:25</td>\n",
       "      <td>150042.0</td>\n",
       "      <td>TRADITIONAL BAGUETTE</td>\n",
       "      <td>5.0</td>\n",
       "      <td>1,20 €</td>\n",
       "    </tr>\n",
       "  </tbody>\n",
       "</table>\n",
       "</div>"
      ],
      "text/plain": [
       "         date   time  ticket_number               article  Quantity unit_price\n",
       "0  2021-01-02  08:38       150040.0              BAGUETTE       1.0     0,90 €\n",
       "1  2021-01-02  08:38       150040.0      PAIN AU CHOCOLAT       3.0     1,20 €\n",
       "2  2021-01-02  09:14       150041.0      PAIN AU CHOCOLAT       2.0     1,20 €\n",
       "3  2021-01-02  09:14       150041.0                  PAIN       1.0     1,15 €\n",
       "4  2021-01-02  09:25       150042.0  TRADITIONAL BAGUETTE       5.0     1,20 €"
      ]
     },
     "execution_count": 7,
     "metadata": {},
     "output_type": "execute_result"
    }
   ],
   "source": [
    "# create a list of breads of interest\n",
    "breads_of_interest = [\"BAGUETTE\", \"PAIN AU CHOCOLAT\"]\n",
    "\n",
    "# pandas is our basic data science tool.\n",
    "# the transactions.csv was loaded into a \n",
    "# dataframe at the start of the notebook\n",
    "# search the data frame for all transactions\n",
    "# of breads_of_interest by searching the article\n",
    "# column of the data frame\n",
    "\n",
    "# documentation of pandas dataframe\n",
    "\n",
    "# !! Note: we are using df.head() to show the results\n",
    "# this is just the first few lines of the data.\n",
    "# un this cell without the .head() extension\n",
    "\n",
    "# the data frame\n",
    "df.head()"
   ]
  },
  {
   "cell_type": "code",
   "execution_count": 8,
   "id": "9864c8a2-1236-479d-9620-5cba52eb030d",
   "metadata": {},
   "outputs": [
    {
     "data": {
      "text/html": [
       "<div>\n",
       "<style scoped>\n",
       "    .dataframe tbody tr th:only-of-type {\n",
       "        vertical-align: middle;\n",
       "    }\n",
       "\n",
       "    .dataframe tbody tr th {\n",
       "        vertical-align: top;\n",
       "    }\n",
       "\n",
       "    .dataframe thead th {\n",
       "        text-align: right;\n",
       "    }\n",
       "</style>\n",
       "<table border=\"1\" class=\"dataframe\">\n",
       "  <thead>\n",
       "    <tr style=\"text-align: right;\">\n",
       "      <th></th>\n",
       "      <th>date</th>\n",
       "      <th>time</th>\n",
       "      <th>ticket_number</th>\n",
       "      <th>article</th>\n",
       "      <th>Quantity</th>\n",
       "      <th>unit_price</th>\n",
       "    </tr>\n",
       "  </thead>\n",
       "  <tbody>\n",
       "    <tr>\n",
       "      <th>0</th>\n",
       "      <td>2021-01-02</td>\n",
       "      <td>08:38</td>\n",
       "      <td>150040.0</td>\n",
       "      <td>BAGUETTE</td>\n",
       "      <td>1.0</td>\n",
       "      <td>0,90 €</td>\n",
       "    </tr>\n",
       "    <tr>\n",
       "      <th>1</th>\n",
       "      <td>2021-01-02</td>\n",
       "      <td>08:38</td>\n",
       "      <td>150040.0</td>\n",
       "      <td>PAIN AU CHOCOLAT</td>\n",
       "      <td>3.0</td>\n",
       "      <td>1,20 €</td>\n",
       "    </tr>\n",
       "    <tr>\n",
       "      <th>2</th>\n",
       "      <td>2021-01-02</td>\n",
       "      <td>09:14</td>\n",
       "      <td>150041.0</td>\n",
       "      <td>PAIN AU CHOCOLAT</td>\n",
       "      <td>2.0</td>\n",
       "      <td>1,20 €</td>\n",
       "    </tr>\n",
       "    <tr>\n",
       "      <th>5</th>\n",
       "      <td>2021-01-02</td>\n",
       "      <td>09:25</td>\n",
       "      <td>150043.0</td>\n",
       "      <td>BAGUETTE</td>\n",
       "      <td>2.0</td>\n",
       "      <td>0,90 €</td>\n",
       "    </tr>\n",
       "    <tr>\n",
       "      <th>10</th>\n",
       "      <td>2021-01-02</td>\n",
       "      <td>09:37</td>\n",
       "      <td>150046.0</td>\n",
       "      <td>PAIN AU CHOCOLAT</td>\n",
       "      <td>6.0</td>\n",
       "      <td>1,20 €</td>\n",
       "    </tr>\n",
       "  </tbody>\n",
       "</table>\n",
       "</div>"
      ],
      "text/plain": [
       "          date   time  ticket_number           article  Quantity unit_price\n",
       "0   2021-01-02  08:38       150040.0          BAGUETTE       1.0     0,90 €\n",
       "1   2021-01-02  08:38       150040.0  PAIN AU CHOCOLAT       3.0     1,20 €\n",
       "2   2021-01-02  09:14       150041.0  PAIN AU CHOCOLAT       2.0     1,20 €\n",
       "5   2021-01-02  09:25       150043.0          BAGUETTE       2.0     0,90 €\n",
       "10  2021-01-02  09:37       150046.0  PAIN AU CHOCOLAT       6.0     1,20 €"
      ]
     },
     "execution_count": 8,
     "metadata": {},
     "output_type": "execute_result"
    }
   ],
   "source": [
    "# breads_of_interest transactions\n",
    "df[df.article.isin(breads_of_interest)].head()"
   ]
  },
  {
   "cell_type": "code",
   "execution_count": 9,
   "id": "f1a2bea3-e092-44eb-8832-1861fa69d726",
   "metadata": {},
   "outputs": [
    {
     "data": {
      "text/plain": [
       "article\n",
       "BAGUETTE            22053.0\n",
       "PAIN AU CHOCOLAT    25236.0\n",
       "Name: Quantity, dtype: float64"
      ]
     },
     "execution_count": 9,
     "metadata": {},
     "output_type": "execute_result"
    }
   ],
   "source": [
    "# from there it is a little easier to figure out how many of each were sold\n",
    "df[df.article.isin(breads_of_interest)].groupby(\"article\").Quantity.sum()"
   ]
  },
  {
   "cell_type": "code",
   "execution_count": null,
   "id": "50cca9c6-aaf7-462f-a6e7-0fb82c5a66fa",
   "metadata": {},
   "outputs": [],
   "source": []
  }
 ],
 "metadata": {
  "kernelspec": {
   "display_name": "Python 3 (ipykernel)",
   "language": "python",
   "name": "python3"
  },
  "language_info": {
   "codemirror_mode": {
    "name": "ipython",
    "version": 3
   },
   "file_extension": ".py",
   "mimetype": "text/x-python",
   "name": "python",
   "nbconvert_exporter": "python",
   "pygments_lexer": "ipython3",
   "version": "3.9.15"
  }
 },
 "nbformat": 4,
 "nbformat_minor": 5
}
